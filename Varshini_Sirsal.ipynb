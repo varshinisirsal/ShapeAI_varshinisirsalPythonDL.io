{
  "nbformat": 4,
  "nbformat_minor": 0,
  "metadata": {
    "colab": {
      "name": "Varshini Sirsal.ipynb",
      "provenance": [],
      "collapsed_sections": []
    },
    "kernelspec": {
      "name": "python3",
      "display_name": "Python 3"
    },
    "language_info": {
      "name": "python"
    }
  },
  "cells": [
    {
      "cell_type": "code",
      "metadata": {
        "id": "K_NvVjl5w_tL"
      },
      "source": [
        "from keras.datasets import mnist\n",
        "data=mnist.load_data()"
      ],
      "execution_count": 45,
      "outputs": []
    },
    {
      "cell_type": "code",
      "metadata": {
        "id": "4KYbbLz8yWFG"
      },
      "source": [
        "(X_train,Y_train),(X_test,Y_test)=data"
      ],
      "execution_count": 4,
      "outputs": []
    },
    {
      "cell_type": "code",
      "metadata": {
        "colab": {
          "base_uri": "https://localhost:8080/"
        },
        "id": "QX-YmZIBz-h5",
        "outputId": "c7897cb1-670a-47b4-a70b-b473eccff910"
      },
      "source": [
        "X_train[0].shape"
      ],
      "execution_count": 46,
      "outputs": [
        {
          "output_type": "execute_result",
          "data": {
            "text/plain": [
              "(784,)"
            ]
          },
          "metadata": {
            "tags": []
          },
          "execution_count": 46
        }
      ]
    },
    {
      "cell_type": "code",
      "metadata": {
        "colab": {
          "base_uri": "https://localhost:8080/"
        },
        "id": "d3WNgvgi389W",
        "outputId": "3b428522-18ce-478e-e005-4ba0419349a3"
      },
      "source": [
        "X_train.shape"
      ],
      "execution_count": 47,
      "outputs": [
        {
          "output_type": "execute_result",
          "data": {
            "text/plain": [
              "(60000, 784)"
            ]
          },
          "metadata": {
            "tags": []
          },
          "execution_count": 47
        }
      ]
    },
    {
      "cell_type": "code",
      "metadata": {
        "id": "Df16XJ3o2e0w"
      },
      "source": [
        "X_train=X_train.reshape((X_train.shape[0],28*28)).astype('float32')\n",
        "X_test=X_test.reshape((X_test.shape[0],28*28)).astype('float32')\n"
      ],
      "execution_count": 48,
      "outputs": []
    },
    {
      "cell_type": "code",
      "metadata": {
        "id": "i1vmmvYZ2iPg"
      },
      "source": [
        "X_train=X_train/225\n",
        "X_test=X_test/225"
      ],
      "execution_count": 49,
      "outputs": []
    },
    {
      "cell_type": "code",
      "metadata": {
        "colab": {
          "base_uri": "https://localhost:8080/"
        },
        "id": "Myhd6Hiy4zUW",
        "outputId": "40368f50-4a6e-4ae5-e36b-d0887c9ae084"
      },
      "source": [
        "from keras.utils import np_utils\n",
        "print(X_test.shape)\n",
        "Y_train=np_utils.to_categorical(Y_train)\n",
        "Y_test=np_utils.to_categorical(Y_test)\n",
        "num_classes=Y_train.shape[1]\n",
        "print(Y_test.shape)"
      ],
      "execution_count": 50,
      "outputs": [
        {
          "output_type": "stream",
          "text": [
            "(10000, 784)\n",
            "(10000, 10, 2)\n"
          ],
          "name": "stdout"
        }
      ]
    },
    {
      "cell_type": "code",
      "metadata": {
        "id": "ST1RyEXb95Ds"
      },
      "source": [
        "from keras.models import Sequential\n",
        "from keras.layers import Dense\n",
        "from keras.layers import Dropout\n"
      ],
      "execution_count": 51,
      "outputs": []
    },
    {
      "cell_type": "code",
      "metadata": {
        "id": "f9snBy36BGMQ"
      },
      "source": [
        "model=Sequential()\n",
        "model.add(Dense(32,input_dim=28*28,activation='relu'))\n",
        "model.add(Dense(64,activation='relu'))\n",
        "model.add(Dense(10,activation='softmax'))\n",
        "\n"
      ],
      "execution_count": 52,
      "outputs": []
    },
    {
      "cell_type": "code",
      "metadata": {
        "id": "kx5AFXeiCOhY"
      },
      "source": [
        "model.compile(loss='categorical_crossentropy',optimizer='adam',metrics=['accuracy'])"
      ],
      "execution_count": 53,
      "outputs": []
    },
    {
      "cell_type": "code",
      "metadata": {
        "colab": {
          "base_uri": "https://localhost:8080/"
        },
        "id": "G_BSuYvEC5cT",
        "outputId": "07d443e9-4715-4d3b-a0f4-068763f57517"
      },
      "source": [
        "model.summary()"
      ],
      "execution_count": 39,
      "outputs": [
        {
          "output_type": "stream",
          "text": [
            "Model: \"sequential_1\"\n",
            "_________________________________________________________________\n",
            "Layer (type)                 Output Shape              Param #   \n",
            "=================================================================\n",
            "dense_3 (Dense)              (None, 32)                25120     \n",
            "_________________________________________________________________\n",
            "dense_4 (Dense)              (None, 64)                2112      \n",
            "_________________________________________________________________\n",
            "dense_5 (Dense)              (None, 10)                650       \n",
            "=================================================================\n",
            "Total params: 27,882\n",
            "Trainable params: 27,882\n",
            "Non-trainable params: 0\n",
            "_________________________________________________________________\n"
          ],
          "name": "stdout"
        }
      ]
    },
    {
      "cell_type": "code",
      "metadata": {
        "colab": {
          "base_uri": "https://localhost:8080/"
        },
        "id": "UxDL7cynDOLY",
        "outputId": "e4f3917d-6aef-40e7-d442-5811a85da3ce"
      },
      "source": [
        "model.fit(X_train,Y_train,validation_split=0.2,epochs=10,batch_size=100)"
      ],
      "execution_count": 40,
      "outputs": [
        {
          "output_type": "stream",
          "text": [
            "Epoch 1/10\n",
            "480/480 [==============================] - 2s 3ms/step - loss: 2.3018 - accuracy: 0.1120 - val_loss: 2.3022 - val_accuracy: 0.1060\n",
            "Epoch 2/10\n",
            "480/480 [==============================] - 1s 3ms/step - loss: 2.3011 - accuracy: 0.1139 - val_loss: 2.3022 - val_accuracy: 0.1060\n",
            "Epoch 3/10\n",
            "480/480 [==============================] - 1s 3ms/step - loss: 2.3011 - accuracy: 0.1145 - val_loss: 2.3023 - val_accuracy: 0.1060\n",
            "Epoch 4/10\n",
            "480/480 [==============================] - 1s 3ms/step - loss: 2.3011 - accuracy: 0.1135 - val_loss: 2.3021 - val_accuracy: 0.1060\n",
            "Epoch 5/10\n",
            "480/480 [==============================] - 1s 3ms/step - loss: 2.3012 - accuracy: 0.1124 - val_loss: 2.3022 - val_accuracy: 0.1060\n",
            "Epoch 6/10\n",
            "480/480 [==============================] - 1s 3ms/step - loss: 2.3007 - accuracy: 0.1167 - val_loss: 2.3021 - val_accuracy: 0.1060\n",
            "Epoch 7/10\n",
            "480/480 [==============================] - 1s 3ms/step - loss: 2.3011 - accuracy: 0.1129 - val_loss: 2.3020 - val_accuracy: 0.1060\n",
            "Epoch 8/10\n",
            "480/480 [==============================] - 1s 3ms/step - loss: 2.3007 - accuracy: 0.1153 - val_loss: 2.3019 - val_accuracy: 0.1060\n",
            "Epoch 9/10\n",
            "480/480 [==============================] - 1s 3ms/step - loss: 2.3015 - accuracy: 0.1109 - val_loss: 2.3025 - val_accuracy: 0.1060\n",
            "Epoch 10/10\n",
            "480/480 [==============================] - 1s 3ms/step - loss: 2.3011 - accuracy: 0.1137 - val_loss: 2.3020 - val_accuracy: 0.1060\n"
          ],
          "name": "stdout"
        },
        {
          "output_type": "execute_result",
          "data": {
            "text/plain": [
              "<tensorflow.python.keras.callbacks.History at 0x7f5879eedfd0>"
            ]
          },
          "metadata": {
            "tags": []
          },
          "execution_count": 40
        }
      ]
    },
    {
      "cell_type": "code",
      "metadata": {
        "colab": {
          "base_uri": "https://localhost:8080/"
        },
        "id": "0bPXKF93D5vJ",
        "outputId": "adea5482-be9c-44cd-a8d7-aeb4cd81af02"
      },
      "source": [
        "scores=model.evaluate(X_test,Y_test)\n",
        "print(scores)"
      ],
      "execution_count": 44,
      "outputs": [
        {
          "output_type": "stream",
          "text": [
            "313/313 [==============================] - 0s 2ms/step - loss: 2.3010 - accuracy: 0.1135\n",
            "[2.3009698390960693, 0.11349999904632568]\n"
          ],
          "name": "stdout"
        }
      ]
    }
  ]
}